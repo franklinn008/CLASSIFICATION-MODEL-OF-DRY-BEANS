{
 "cells": [
  {
   "cell_type": "code",
   "execution_count": 75,
   "metadata": {},
   "outputs": [],
   "source": [
    "import numpy as np\n",
    "import pandas as pd\n",
    "import sklearn as sk\n",
    "import matplotlib.pyplot as plt\n",
    "import seaborn as sns\n",
    "import tensorflow as tf\n",
    "from sklearn.preprocessing import StandardScaler \n",
    "from sklearn.model_selection import train_test_split"
   ]
  },
  {
   "cell_type": "code",
   "execution_count": 76,
   "metadata": {},
   "outputs": [
    {
     "data": {
      "text/html": [
       "<div>\n",
       "<style scoped>\n",
       "    .dataframe tbody tr th:only-of-type {\n",
       "        vertical-align: middle;\n",
       "    }\n",
       "\n",
       "    .dataframe tbody tr th {\n",
       "        vertical-align: top;\n",
       "    }\n",
       "\n",
       "    .dataframe thead th {\n",
       "        text-align: right;\n",
       "    }\n",
       "</style>\n",
       "<table border=\"1\" class=\"dataframe\">\n",
       "  <thead>\n",
       "    <tr style=\"text-align: right;\">\n",
       "      <th></th>\n",
       "      <th>Area</th>\n",
       "      <th>Perimeter</th>\n",
       "      <th>MajorAxisLength</th>\n",
       "      <th>MinorAxisLength</th>\n",
       "      <th>AspectRation</th>\n",
       "      <th>Eccentricity</th>\n",
       "      <th>ConvexArea</th>\n",
       "      <th>EquivDiameter</th>\n",
       "      <th>Extent</th>\n",
       "      <th>Solidity</th>\n",
       "      <th>roundness</th>\n",
       "      <th>Compactness</th>\n",
       "      <th>ShapeFactor1</th>\n",
       "      <th>ShapeFactor2</th>\n",
       "      <th>ShapeFactor3</th>\n",
       "      <th>ShapeFactor4</th>\n",
       "      <th>Class</th>\n",
       "    </tr>\n",
       "  </thead>\n",
       "  <tbody>\n",
       "    <tr>\n",
       "      <th>0</th>\n",
       "      <td>28395</td>\n",
       "      <td>610.3</td>\n",
       "      <td>208.2</td>\n",
       "      <td>173.9</td>\n",
       "      <td>1.20</td>\n",
       "      <td>0.55</td>\n",
       "      <td>28715</td>\n",
       "      <td>190.14</td>\n",
       "      <td>0.76</td>\n",
       "      <td>0.99</td>\n",
       "      <td>0.96</td>\n",
       "      <td>0.91</td>\n",
       "      <td>0.007</td>\n",
       "      <td>0.003</td>\n",
       "      <td>0.834</td>\n",
       "      <td>0.999</td>\n",
       "      <td>SEKER</td>\n",
       "    </tr>\n",
       "    <tr>\n",
       "      <th>1</th>\n",
       "      <td>28734</td>\n",
       "      <td>638.0</td>\n",
       "      <td>200.5</td>\n",
       "      <td>182.7</td>\n",
       "      <td>1.10</td>\n",
       "      <td>0.41</td>\n",
       "      <td>29172</td>\n",
       "      <td>191.27</td>\n",
       "      <td>0.78</td>\n",
       "      <td>0.98</td>\n",
       "      <td>0.89</td>\n",
       "      <td>0.95</td>\n",
       "      <td>0.007</td>\n",
       "      <td>0.004</td>\n",
       "      <td>0.910</td>\n",
       "      <td>0.998</td>\n",
       "      <td>SEKER</td>\n",
       "    </tr>\n",
       "    <tr>\n",
       "      <th>2</th>\n",
       "      <td>29380</td>\n",
       "      <td>624.1</td>\n",
       "      <td>212.8</td>\n",
       "      <td>175.9</td>\n",
       "      <td>1.21</td>\n",
       "      <td>0.56</td>\n",
       "      <td>29690</td>\n",
       "      <td>193.41</td>\n",
       "      <td>0.78</td>\n",
       "      <td>0.99</td>\n",
       "      <td>0.95</td>\n",
       "      <td>0.91</td>\n",
       "      <td>0.007</td>\n",
       "      <td>0.003</td>\n",
       "      <td>0.826</td>\n",
       "      <td>0.999</td>\n",
       "      <td>SEKER</td>\n",
       "    </tr>\n",
       "    <tr>\n",
       "      <th>3</th>\n",
       "      <td>30008</td>\n",
       "      <td>645.9</td>\n",
       "      <td>210.6</td>\n",
       "      <td>182.5</td>\n",
       "      <td>1.15</td>\n",
       "      <td>0.50</td>\n",
       "      <td>30724</td>\n",
       "      <td>195.47</td>\n",
       "      <td>0.78</td>\n",
       "      <td>0.98</td>\n",
       "      <td>0.90</td>\n",
       "      <td>0.93</td>\n",
       "      <td>0.007</td>\n",
       "      <td>0.003</td>\n",
       "      <td>0.862</td>\n",
       "      <td>0.994</td>\n",
       "      <td>SEKER</td>\n",
       "    </tr>\n",
       "    <tr>\n",
       "      <th>4</th>\n",
       "      <td>30140</td>\n",
       "      <td>620.1</td>\n",
       "      <td>201.8</td>\n",
       "      <td>190.3</td>\n",
       "      <td>1.06</td>\n",
       "      <td>0.33</td>\n",
       "      <td>30417</td>\n",
       "      <td>195.90</td>\n",
       "      <td>0.77</td>\n",
       "      <td>0.99</td>\n",
       "      <td>0.98</td>\n",
       "      <td>0.97</td>\n",
       "      <td>0.007</td>\n",
       "      <td>0.004</td>\n",
       "      <td>0.942</td>\n",
       "      <td>0.999</td>\n",
       "      <td>SEKER</td>\n",
       "    </tr>\n",
       "  </tbody>\n",
       "</table>\n",
       "</div>"
      ],
      "text/plain": [
       "    Area  Perimeter  MajorAxisLength  MinorAxisLength  AspectRation  \\\n",
       "0  28395      610.3            208.2            173.9          1.20   \n",
       "1  28734      638.0            200.5            182.7          1.10   \n",
       "2  29380      624.1            212.8            175.9          1.21   \n",
       "3  30008      645.9            210.6            182.5          1.15   \n",
       "4  30140      620.1            201.8            190.3          1.06   \n",
       "\n",
       "   Eccentricity  ConvexArea  EquivDiameter  Extent  Solidity  roundness  \\\n",
       "0          0.55       28715         190.14    0.76      0.99       0.96   \n",
       "1          0.41       29172         191.27    0.78      0.98       0.89   \n",
       "2          0.56       29690         193.41    0.78      0.99       0.95   \n",
       "3          0.50       30724         195.47    0.78      0.98       0.90   \n",
       "4          0.33       30417         195.90    0.77      0.99       0.98   \n",
       "\n",
       "   Compactness  ShapeFactor1  ShapeFactor2  ShapeFactor3  ShapeFactor4  Class  \n",
       "0         0.91         0.007         0.003         0.834         0.999  SEKER  \n",
       "1         0.95         0.007         0.004         0.910         0.998  SEKER  \n",
       "2         0.91         0.007         0.003         0.826         0.999  SEKER  \n",
       "3         0.93         0.007         0.003         0.862         0.994  SEKER  \n",
       "4         0.97         0.007         0.004         0.942         0.999  SEKER  "
      ]
     },
     "execution_count": 76,
     "metadata": {},
     "output_type": "execute_result"
    }
   ],
   "source": [
    "#IMPLEMENTATION OF KNEIGHBOUR AND NEURAL NETWORK ALGORITHMS\n",
    "#dataset upload into the enviroment and exploration\n",
    "Dbeans = pd.read_csv(\"Dry_Beans_Rating.csv\")\n",
    "Dbeans.head()"
   ]
  },
  {
   "cell_type": "code",
   "execution_count": 77,
   "metadata": {},
   "outputs": [
    {
     "name": "stdout",
     "output_type": "stream",
     "text": [
      "<class 'pandas.core.frame.DataFrame'>\n",
      "RangeIndex: 13611 entries, 0 to 13610\n",
      "Data columns (total 17 columns):\n",
      " #   Column           Non-Null Count  Dtype  \n",
      "---  ------           --------------  -----  \n",
      " 0   Area             13611 non-null  int64  \n",
      " 1   Perimeter        13611 non-null  float64\n",
      " 2   MajorAxisLength  13611 non-null  float64\n",
      " 3   MinorAxisLength  13611 non-null  float64\n",
      " 4   AspectRation     13611 non-null  float64\n",
      " 5   Eccentricity     13611 non-null  float64\n",
      " 6   ConvexArea       13611 non-null  int64  \n",
      " 7   EquivDiameter    13611 non-null  float64\n",
      " 8   Extent           13611 non-null  float64\n",
      " 9   Solidity         13611 non-null  float64\n",
      " 10  roundness        13611 non-null  float64\n",
      " 11  Compactness      13611 non-null  float64\n",
      " 12  ShapeFactor1     13611 non-null  float64\n",
      " 13  ShapeFactor2     13611 non-null  float64\n",
      " 14  ShapeFactor3     13611 non-null  float64\n",
      " 15  ShapeFactor4     13611 non-null  float64\n",
      " 16  Class            13611 non-null  object \n",
      "dtypes: float64(14), int64(2), object(1)\n",
      "memory usage: 1.8+ MB\n"
     ]
    }
   ],
   "source": [
    "#exploration continued\n",
    "Dbeans.info()"
   ]
  },
  {
   "cell_type": "code",
   "execution_count": 78,
   "metadata": {},
   "outputs": [
    {
     "data": {
      "text/html": [
       "<div>\n",
       "<style scoped>\n",
       "    .dataframe tbody tr th:only-of-type {\n",
       "        vertical-align: middle;\n",
       "    }\n",
       "\n",
       "    .dataframe tbody tr th {\n",
       "        vertical-align: top;\n",
       "    }\n",
       "\n",
       "    .dataframe thead th {\n",
       "        text-align: right;\n",
       "    }\n",
       "</style>\n",
       "<table border=\"1\" class=\"dataframe\">\n",
       "  <thead>\n",
       "    <tr style=\"text-align: right;\">\n",
       "      <th></th>\n",
       "      <th>Area</th>\n",
       "      <th>Perimeter</th>\n",
       "      <th>MajorAxisLength</th>\n",
       "      <th>MinorAxisLength</th>\n",
       "      <th>AspectRation</th>\n",
       "      <th>Eccentricity</th>\n",
       "      <th>ConvexArea</th>\n",
       "      <th>EquivDiameter</th>\n",
       "      <th>Extent</th>\n",
       "      <th>Solidity</th>\n",
       "      <th>roundness</th>\n",
       "      <th>Compactness</th>\n",
       "      <th>ShapeFactor1</th>\n",
       "      <th>ShapeFactor2</th>\n",
       "      <th>ShapeFactor3</th>\n",
       "      <th>ShapeFactor4</th>\n",
       "    </tr>\n",
       "  </thead>\n",
       "  <tbody>\n",
       "    <tr>\n",
       "      <th>count</th>\n",
       "      <td>13611.000000</td>\n",
       "      <td>13611.000000</td>\n",
       "      <td>13611.000000</td>\n",
       "      <td>13611.000000</td>\n",
       "      <td>13611.000000</td>\n",
       "      <td>13611.000000</td>\n",
       "      <td>13611.000000</td>\n",
       "      <td>13611.000000</td>\n",
       "      <td>13611.000000</td>\n",
       "      <td>13611.000000</td>\n",
       "      <td>13611.000000</td>\n",
       "      <td>13611.000000</td>\n",
       "      <td>13611.000000</td>\n",
       "      <td>13611.000000</td>\n",
       "      <td>13611.000000</td>\n",
       "      <td>13611.000000</td>\n",
       "    </tr>\n",
       "    <tr>\n",
       "      <th>mean</th>\n",
       "      <td>53048.284549</td>\n",
       "      <td>855.283425</td>\n",
       "      <td>320.141826</td>\n",
       "      <td>202.270627</td>\n",
       "      <td>1.583217</td>\n",
       "      <td>0.750904</td>\n",
       "      <td>53768.200206</td>\n",
       "      <td>253.064227</td>\n",
       "      <td>0.749757</td>\n",
       "      <td>0.987529</td>\n",
       "      <td>0.873279</td>\n",
       "      <td>0.799867</td>\n",
       "      <td>0.006566</td>\n",
       "      <td>0.001710</td>\n",
       "      <td>0.643590</td>\n",
       "      <td>0.995063</td>\n",
       "    </tr>\n",
       "    <tr>\n",
       "      <th>std</th>\n",
       "      <td>29324.095717</td>\n",
       "      <td>214.289700</td>\n",
       "      <td>85.694040</td>\n",
       "      <td>44.970310</td>\n",
       "      <td>0.246704</td>\n",
       "      <td>0.092076</td>\n",
       "      <td>29774.915817</td>\n",
       "      <td>59.177104</td>\n",
       "      <td>0.049211</td>\n",
       "      <td>0.005147</td>\n",
       "      <td>0.059584</td>\n",
       "      <td>0.061797</td>\n",
       "      <td>0.001183</td>\n",
       "      <td>0.000659</td>\n",
       "      <td>0.098997</td>\n",
       "      <td>0.004377</td>\n",
       "    </tr>\n",
       "    <tr>\n",
       "      <th>min</th>\n",
       "      <td>20420.000000</td>\n",
       "      <td>524.700000</td>\n",
       "      <td>183.600000</td>\n",
       "      <td>122.500000</td>\n",
       "      <td>1.020000</td>\n",
       "      <td>0.220000</td>\n",
       "      <td>20684.000000</td>\n",
       "      <td>161.240000</td>\n",
       "      <td>0.560000</td>\n",
       "      <td>0.920000</td>\n",
       "      <td>0.490000</td>\n",
       "      <td>0.640000</td>\n",
       "      <td>0.003000</td>\n",
       "      <td>0.001000</td>\n",
       "      <td>0.410000</td>\n",
       "      <td>0.948000</td>\n",
       "    </tr>\n",
       "    <tr>\n",
       "      <th>25%</th>\n",
       "      <td>36328.000000</td>\n",
       "      <td>703.550000</td>\n",
       "      <td>253.300000</td>\n",
       "      <td>175.850000</td>\n",
       "      <td>1.430000</td>\n",
       "      <td>0.720000</td>\n",
       "      <td>36714.500000</td>\n",
       "      <td>215.070000</td>\n",
       "      <td>0.720000</td>\n",
       "      <td>0.990000</td>\n",
       "      <td>0.830000</td>\n",
       "      <td>0.760000</td>\n",
       "      <td>0.006000</td>\n",
       "      <td>0.001000</td>\n",
       "      <td>0.581000</td>\n",
       "      <td>0.994000</td>\n",
       "    </tr>\n",
       "    <tr>\n",
       "      <th>50%</th>\n",
       "      <td>44652.000000</td>\n",
       "      <td>794.900000</td>\n",
       "      <td>296.900000</td>\n",
       "      <td>192.400000</td>\n",
       "      <td>1.550000</td>\n",
       "      <td>0.760000</td>\n",
       "      <td>45178.000000</td>\n",
       "      <td>238.440000</td>\n",
       "      <td>0.760000</td>\n",
       "      <td>0.990000</td>\n",
       "      <td>0.880000</td>\n",
       "      <td>0.800000</td>\n",
       "      <td>0.007000</td>\n",
       "      <td>0.002000</td>\n",
       "      <td>0.642000</td>\n",
       "      <td>0.996000</td>\n",
       "    </tr>\n",
       "    <tr>\n",
       "      <th>75%</th>\n",
       "      <td>61332.000000</td>\n",
       "      <td>977.200000</td>\n",
       "      <td>376.500000</td>\n",
       "      <td>217.000000</td>\n",
       "      <td>1.710000</td>\n",
       "      <td>0.810000</td>\n",
       "      <td>62294.000000</td>\n",
       "      <td>279.445000</td>\n",
       "      <td>0.790000</td>\n",
       "      <td>0.990000</td>\n",
       "      <td>0.920000</td>\n",
       "      <td>0.830000</td>\n",
       "      <td>0.007000</td>\n",
       "      <td>0.002000</td>\n",
       "      <td>0.696000</td>\n",
       "      <td>0.998000</td>\n",
       "    </tr>\n",
       "    <tr>\n",
       "      <th>max</th>\n",
       "      <td>254616.000000</td>\n",
       "      <td>1985.400000</td>\n",
       "      <td>738.900000</td>\n",
       "      <td>460.200000</td>\n",
       "      <td>2.430000</td>\n",
       "      <td>0.910000</td>\n",
       "      <td>263261.000000</td>\n",
       "      <td>569.370000</td>\n",
       "      <td>0.870000</td>\n",
       "      <td>0.990000</td>\n",
       "      <td>0.990000</td>\n",
       "      <td>0.990000</td>\n",
       "      <td>0.010000</td>\n",
       "      <td>0.004000</td>\n",
       "      <td>0.975000</td>\n",
       "      <td>1.000000</td>\n",
       "    </tr>\n",
       "  </tbody>\n",
       "</table>\n",
       "</div>"
      ],
      "text/plain": [
       "                Area     Perimeter  MajorAxisLength  MinorAxisLength  \\\n",
       "count   13611.000000  13611.000000     13611.000000     13611.000000   \n",
       "mean    53048.284549    855.283425       320.141826       202.270627   \n",
       "std     29324.095717    214.289700        85.694040        44.970310   \n",
       "min     20420.000000    524.700000       183.600000       122.500000   \n",
       "25%     36328.000000    703.550000       253.300000       175.850000   \n",
       "50%     44652.000000    794.900000       296.900000       192.400000   \n",
       "75%     61332.000000    977.200000       376.500000       217.000000   \n",
       "max    254616.000000   1985.400000       738.900000       460.200000   \n",
       "\n",
       "       AspectRation  Eccentricity     ConvexArea  EquivDiameter        Extent  \\\n",
       "count  13611.000000  13611.000000   13611.000000   13611.000000  13611.000000   \n",
       "mean       1.583217      0.750904   53768.200206     253.064227      0.749757   \n",
       "std        0.246704      0.092076   29774.915817      59.177104      0.049211   \n",
       "min        1.020000      0.220000   20684.000000     161.240000      0.560000   \n",
       "25%        1.430000      0.720000   36714.500000     215.070000      0.720000   \n",
       "50%        1.550000      0.760000   45178.000000     238.440000      0.760000   \n",
       "75%        1.710000      0.810000   62294.000000     279.445000      0.790000   \n",
       "max        2.430000      0.910000  263261.000000     569.370000      0.870000   \n",
       "\n",
       "           Solidity     roundness   Compactness  ShapeFactor1  ShapeFactor2  \\\n",
       "count  13611.000000  13611.000000  13611.000000  13611.000000  13611.000000   \n",
       "mean       0.987529      0.873279      0.799867      0.006566      0.001710   \n",
       "std        0.005147      0.059584      0.061797      0.001183      0.000659   \n",
       "min        0.920000      0.490000      0.640000      0.003000      0.001000   \n",
       "25%        0.990000      0.830000      0.760000      0.006000      0.001000   \n",
       "50%        0.990000      0.880000      0.800000      0.007000      0.002000   \n",
       "75%        0.990000      0.920000      0.830000      0.007000      0.002000   \n",
       "max        0.990000      0.990000      0.990000      0.010000      0.004000   \n",
       "\n",
       "       ShapeFactor3  ShapeFactor4  \n",
       "count  13611.000000  13611.000000  \n",
       "mean       0.643590      0.995063  \n",
       "std        0.098997      0.004377  \n",
       "min        0.410000      0.948000  \n",
       "25%        0.581000      0.994000  \n",
       "50%        0.642000      0.996000  \n",
       "75%        0.696000      0.998000  \n",
       "max        0.975000      1.000000  "
      ]
     },
     "execution_count": 78,
     "metadata": {},
     "output_type": "execute_result"
    }
   ],
   "source": [
    "Dbeans.describe()"
   ]
  },
  {
   "cell_type": "code",
   "execution_count": 79,
   "metadata": {},
   "outputs": [
    {
     "data": {
      "image/png": "[encoded data removed]",
      "text/plain": [
       "<Figure size 720x432 with 1 Axes>"
      ]
     },
     "metadata": {
      "needs_background": "light"
     },
     "output_type": "display_data"
    }
   ],
   "source": [
    "#More exploration and insight using histogram\n",
    "plt.figure(figsize =(10,6))\n",
    "sns.histplot(Dbeans.Compactness)\n",
    "plt.title('Beans Shape/Appearance')\n",
    "plt.show()"
   ]
  },
  {
   "cell_type": "code",
   "execution_count": 80,
   "metadata": {},
   "outputs": [
    {
     "data": {
      "image/png": "[encoded data removed]",
      "text/plain": [
       "<Figure size 720x432 with 1 Axes>"
      ]
     },
     "metadata": {
      "needs_background": "light"
     },
     "output_type": "display_data"
    }
   ],
   "source": [
    "#checking the beans seed appearance based on class\n",
    "plt.figure(figsize =(10,6))\n",
    "sns.histplot(x ='Compactness', hue = \"Class\", data = Dbeans)\n",
    "plt.title('Classified Beans Seed')\n",
    "plt.show()"
   ]
  },
  {
   "cell_type": "code",
   "execution_count": 81,
   "metadata": {},
   "outputs": [],
   "source": [
    "#splitting dataset into training and test data using train_test_split and dropping dependent column\n",
    "from sklearn.model_selection import train_test_split\n",
    "X = Dbeans.drop('Class',axis=1)\n",
    "y = Dbeans['Class']\n",
    "X_train,X_test,y_train,y_test=train_test_split(X,y,test_size = 0.3,random_state = 0)"
   ]
  },
  {
   "cell_type": "code",
   "execution_count": 82,
   "metadata": {},
   "outputs": [],
   "source": [
    "#Dataset transformation process and training\n",
    "from sklearn.preprocessing import StandardScaler\n",
    "sc=StandardScaler()\n",
    "X_train_s=sc.fit_transform(X_train)\n",
    "X_test_s=sc.transform(X_test)"
   ]
  },
  {
   "cell_type": "code",
   "execution_count": 83,
   "metadata": {},
   "outputs": [
    {
     "data": {
      "text/html": [
       "<style>#sk-container-id-2 {color: black;background-color: white;}#sk-container-id-2 pre{padding: 0;}#sk-container-id-2 div.sk-toggleable {background-color: white;}#sk-container-id-2 label.sk-toggleable__label {cursor: pointer;display: block;width: 100%;margin-bottom: 0;padding: 0.3em;box-sizing: border-box;text-align: center;}#sk-container-id-2 label.sk-toggleable__label-arrow:before {content: \"▸\";float: left;margin-right: 0.25em;color: #696969;}#sk-container-id-2 label.sk-toggleable__label-arrow:hover:before {color: black;}#sk-container-id-2 div.sk-estimator:hover label.sk-toggleable__label-arrow:before {color: black;}#sk-container-id-2 div.sk-toggleable__content {max-height: 0;max-width: 0;overflow: hidden;text-align: left;background-color: #f0f8ff;}#sk-container-id-2 div.sk-toggleable__content pre {margin: 0.2em;color: black;border-radius: 0.25em;background-color: #f0f8ff;}#sk-container-id-2 input.sk-toggleable__control:checked~div.sk-toggleable__content {max-height: 200px;max-width: 100%;overflow: auto;}#sk-container-id-2 input.sk-toggleable__control:checked~label.sk-toggleable__label-arrow:before {content: \"▾\";}#sk-container-id-2 div.sk-estimator input.sk-toggleable__control:checked~label.sk-toggleable__label {background-color: #d4ebff;}#sk-container-id-2 div.sk-label input.sk-toggleable__control:checked~label.sk-toggleable__label {background-color: #d4ebff;}#sk-container-id-2 input.sk-hidden--visually {border: 0;clip: rect(1px 1px 1px 1px);clip: rect(1px, 1px, 1px, 1px);height: 1px;margin: -1px;overflow: hidden;padding: 0;position: absolute;width: 1px;}#sk-container-id-2 div.sk-estimator {font-family: monospace;background-color: #f0f8ff;border: 1px dotted black;border-radius: 0.25em;box-sizing: border-box;margin-bottom: 0.5em;}#sk-container-id-2 div.sk-estimator:hover {background-color: #d4ebff;}#sk-container-id-2 div.sk-parallel-item::after {content: \"\";width: 100%;border-bottom: 1px solid gray;flex-grow: 1;}#sk-container-id-2 div.sk-label:hover label.sk-toggleable__label {background-color: #d4ebff;}#sk-container-id-2 div.sk-serial::before {content: \"\";position: absolute;border-left: 1px solid gray;box-sizing: border-box;top: 0;bottom: 0;left: 50%;z-index: 0;}#sk-container-id-2 div.sk-serial {display: flex;flex-direction: column;align-items: center;background-color: white;padding-right: 0.2em;padding-left: 0.2em;position: relative;}#sk-container-id-2 div.sk-item {position: relative;z-index: 1;}#sk-container-id-2 div.sk-parallel {display: flex;align-items: stretch;justify-content: center;background-color: white;position: relative;}#sk-container-id-2 div.sk-item::before, #sk-container-id-2 div.sk-parallel-item::before {content: \"\";position: absolute;border-left: 1px solid gray;box-sizing: border-box;top: 0;bottom: 0;left: 50%;z-index: -1;}#sk-container-id-2 div.sk-parallel-item {display: flex;flex-direction: column;z-index: 1;position: relative;background-color: white;}#sk-container-id-2 div.sk-parallel-item:first-child::after {align-self: flex-end;width: 50%;}#sk-container-id-2 div.sk-parallel-item:last-child::after {align-self: flex-start;width: 50%;}#sk-container-id-2 div.sk-parallel-item:only-child::after {width: 0;}#sk-container-id-2 div.sk-dashed-wrapped {border: 1px dashed gray;margin: 0 0.4em 0.5em 0.4em;box-sizing: border-box;padding-bottom: 0.4em;background-color: white;}#sk-container-id-2 div.sk-label label {font-family: monospace;font-weight: bold;display: inline-block;line-height: 1.2em;}#sk-container-id-2 div.sk-label-container {text-align: center;}#sk-container-id-2 div.sk-container {/* jupyter's `normalize.less` sets `[hidden] { display: none; }` but bootstrap.min.css set `[hidden] { display: none !important; }` so we also need the `!important` here to be able to override the default hidden behavior on the sphinx rendered scikit-learn.org. See: https://github.com/scikit-learn/scikit-learn/issues/21755 */display: inline-block !important;position: relative;}#sk-container-id-2 div.sk-text-repr-fallback {display: none;}</style><div id=\"sk-container-id-2\" class=\"sk-top-container\"><div class=\"sk-text-repr-fallback\"><pre>KNeighborsClassifier()</pre><b>In a Jupyter environment, please rerun this cell to show the HTML representation or trust the notebook. <br />On GitHub, the HTML representation is unable to render, please try loading this page with nbviewer.org.</b></div><div class=\"sk-container\" hidden><div class=\"sk-item\"><div class=\"sk-estimator sk-toggleable\"><input class=\"sk-toggleable__control sk-hidden--visually\" id=\"sk-estimator-id-2\" type=\"checkbox\" checked><label for=\"sk-estimator-id-2\" class=\"sk-toggleable__label sk-toggleable__label-arrow\">KNeighborsClassifier</label><div class=\"sk-toggleable__content\"><pre>KNeighborsClassifier()</pre></div></div></div></div></div>"
      ],
      "text/plain": [
       "KNeighborsClassifier()"
      ]
     },
     "execution_count": 83,
     "metadata": {},
     "output_type": "execute_result"
    }
   ],
   "source": [
    "#Applying  KNeighbors Classifier \n",
    "from sklearn.neighbors import KNeighborsClassifier\n",
    "classifier = KNeighborsClassifier(n_neighbors=5,metric = 'minkowski', p=2)\n",
    "classifier.fit(X_train_s,y_train)"
   ]
  },
  {
   "cell_type": "code",
   "execution_count": 84,
   "metadata": {},
   "outputs": [
    {
     "name": "stdout",
     "output_type": "stream",
     "text": [
      "['DERMASON' 'DERMASON' 'DERMASON' ... 'SEKER' 'SIRA' 'DERMASON']\n"
     ]
    }
   ],
   "source": [
    "#Prediction test\n",
    "y_pred=classifier.predict(X_test_s)\n",
    "print(y_pred)"
   ]
  },
  {
   "cell_type": "code",
   "execution_count": 85,
   "metadata": {},
   "outputs": [
    {
     "name": "stdout",
     "output_type": "stream",
     "text": [
      "13027    DERMASON\n",
      "11035    DERMASON\n",
      "13205    DERMASON\n",
      "7578         SIRA\n",
      "1961        SEKER\n",
      "           ...   \n",
      "1874        SEKER\n",
      "1067        SEKER\n",
      "1115        SEKER\n",
      "13228    DERMASON\n",
      "11431    DERMASON\n",
      "Name: Class, Length: 4084, dtype: object\n"
     ]
    }
   ],
   "source": [
    "#trainig data check\n",
    "print(y_test)"
   ]
  },
  {
   "cell_type": "code",
   "execution_count": 86,
   "metadata": {},
   "outputs": [
    {
     "name": "stdout",
     "output_type": "stream",
     "text": [
      "accuracy:0.93\n",
      "\n",
      "\n",
      "Confusion Matrix:\n",
      "[[345   0  30   0   0   6   8]\n",
      " [  0 134   0   0   0   0   0]\n",
      " [ 13   0 475   0   7   2   4]\n",
      " [  0   0   0 984   1  20  52]\n",
      " [  0   0  14   3 569   0   8]\n",
      " [  5   0   1   7   0 547  19]\n",
      " [  3   0   3  79  15   5 725]] \n",
      "\n",
      "\n",
      "---------------------------------------------\n",
      "Classification Report:\n",
      "\n",
      "              precision    recall  f1-score   support\n",
      "\n",
      "    BARBUNYA       0.94      0.89      0.91       389\n",
      "      BOMBAY       1.00      1.00      1.00       134\n",
      "        CALI       0.91      0.95      0.93       501\n",
      "    DERMASON       0.92      0.93      0.92      1057\n",
      "       HOROZ       0.96      0.96      0.96       594\n",
      "       SEKER       0.94      0.94      0.94       579\n",
      "        SIRA       0.89      0.87      0.88       830\n",
      "\n",
      "    accuracy                           0.93      4084\n",
      "   macro avg       0.94      0.93      0.94      4084\n",
      "weighted avg       0.93      0.93      0.93      4084\n",
      "\n"
     ]
    }
   ],
   "source": [
    "#Summarizing results from the training\n",
    "from sklearn import metrics\n",
    "acc = metrics.accuracy_score(y_test,y_pred)\n",
    "print('accuracy:%.2f\\n\\n'%(acc))\n",
    "cm = metrics.confusion_matrix(y_test,y_pred)\n",
    "print('Confusion Matrix:')\n",
    "print(cm,'\\n\\n')\n",
    "print('---------------------------------------------')\n",
    "result = metrics.classification_report(y_test,y_pred)\n",
    "print('Classification Report:\\n')\n",
    "print(result)"
   ]
  },
  {
   "cell_type": "code",
   "execution_count": 87,
   "metadata": {},
   "outputs": [
    {
     "data": {
      "image/png": "[encoded data removed]",
      "text/plain": [
       "<Figure size 432x288 with 2 Axes>"
      ]
     },
     "metadata": {
      "needs_background": "light"
     },
     "output_type": "display_data"
    }
   ],
   "source": [
    "#Confusion matrix for the result\n",
    "ax = sns.heatmap(cm,cmap = 'flare', annot = True, fmt = 'd')\n",
    "\n",
    "plt.xlabel('Predicted Class',fontsize=12)\n",
    "plt.ylabel('True Class',fontsize=12)\n",
    "plt.xlabel('Confusion Matrix',fontsize=12)\n",
    "plt.show()"
   ]
  },
  {
   "cell_type": "code",
   "execution_count": 88,
   "metadata": {},
   "outputs": [
    {
     "data": {
      "text/plain": [
       "DERMASON    3546\n",
       "SIRA        2636\n",
       "SEKER       2027\n",
       "HOROZ       1928\n",
       "CALI        1630\n",
       "BARBUNYA    1322\n",
       "BOMBAY       522\n",
       "Name: Class, dtype: int64"
      ]
     },
     "execution_count": 88,
     "metadata": {},
     "output_type": "execute_result"
    }
   ],
   "source": [
    "#Applicatio of Neural network classifier\n",
    "#checking for class imbalance using count and snsplot\n",
    "Dbeans1 = Dbeans.copy()\n",
    "Dbeans1['Class'].value_counts()"
   ]
  },
  {
   "cell_type": "code",
   "execution_count": 89,
   "metadata": {},
   "outputs": [
    {
     "name": "stderr",
     "output_type": "stream",
     "text": [
      "e:\\Ana3\\lib\\site-packages\\seaborn\\_decorators.py:36: FutureWarning: Pass the following variable as a keyword arg: x. From version 0.12, the only valid positional argument will be `data`, and passing other arguments without an explicit keyword will result in an error or misinterpretation.\n",
      "  warnings.warn(\n"
     ]
    },
    {
     "data": {
      "text/plain": [
       "<AxesSubplot:xlabel='Class', ylabel='count'>"
      ]
     },
     "execution_count": 89,
     "metadata": {},
     "output_type": "execute_result"
    },
    {
     "data": {
      "image/png": "[encoded data removed]",
      "text/plain": [
       "<Figure size 432x288 with 1 Axes>"
      ]
     },
     "metadata": {
      "needs_background": "light"
     },
     "output_type": "display_data"
    }
   ],
   "source": [
    "sns.countplot(Dbeans1['Class'])"
   ]
  },
  {
   "cell_type": "code",
   "execution_count": 90,
   "metadata": {},
   "outputs": [],
   "source": [
    "#splitting the training and test datasets\n",
    "#application of StandardScaler estimator \n",
    "X1 = Dbeans1.drop('Class',axis=1)\n",
    "y1 = Dbeans1['Class']\n",
    "\n",
    "X_train, X_test, y_train, y_test = train_test_split(X1, y1, test_size =0.2, stratify=y, random_state=99)\n",
    "scaler = StandardScaler()\n",
    "\n",
    "X_train = scaler.fit_transform(X_train)\n",
    "X_test = scaler.transform(X_test)"
   ]
  },
  {
   "cell_type": "code",
   "execution_count": 91,
   "metadata": {},
   "outputs": [
    {
     "name": "stdout",
     "output_type": "stream",
     "text": [
      "Epoch 1/50\n",
      "273/273 - 3s - loss: 1.9204 - accuracy: 0.7611 - val_loss: 1.3396 - val_accuracy: 0.7975 - 3s/epoch - 11ms/step\n",
      "Epoch 2/50\n",
      "273/273 - 1s - loss: 0.8139 - accuracy: 0.8285 - val_loss: 1.2330 - val_accuracy: 0.8283 - 667ms/epoch - 2ms/step\n",
      "Epoch 3/50\n",
      "273/273 - 1s - loss: 0.7591 - accuracy: 0.8356 - val_loss: 1.2658 - val_accuracy: 0.8416 - 665ms/epoch - 2ms/step\n",
      "Epoch 4/50\n",
      "273/273 - 1s - loss: 0.7288 - accuracy: 0.8354 - val_loss: 1.3165 - val_accuracy: 0.8398 - 706ms/epoch - 3ms/step\n",
      "Epoch 5/50\n",
      "273/273 - 1s - loss: 0.7099 - accuracy: 0.8354 - val_loss: 1.2793 - val_accuracy: 0.8343 - 694ms/epoch - 3ms/step\n",
      "Epoch 6/50\n",
      "273/273 - 1s - loss: 0.6905 - accuracy: 0.8395 - val_loss: 1.3483 - val_accuracy: 0.8370 - 688ms/epoch - 3ms/step\n",
      "Epoch 7/50\n",
      "273/273 - 1s - loss: 0.6723 - accuracy: 0.8387 - val_loss: 1.4766 - val_accuracy: 0.8407 - 677ms/epoch - 2ms/step\n",
      "Epoch 8/50\n",
      "273/273 - 1s - loss: 0.6742 - accuracy: 0.8392 - val_loss: 1.4335 - val_accuracy: 0.8338 - 667ms/epoch - 2ms/step\n",
      "Epoch 9/50\n",
      "273/273 - 1s - loss: 0.6785 - accuracy: 0.8394 - val_loss: 1.4001 - val_accuracy: 0.8264 - 610ms/epoch - 2ms/step\n",
      "Epoch 10/50\n",
      "273/273 - 1s - loss: 0.6534 - accuracy: 0.8389 - val_loss: 1.5104 - val_accuracy: 0.8434 - 587ms/epoch - 2ms/step\n",
      "Epoch 11/50\n",
      "273/273 - 1s - loss: 0.6489 - accuracy: 0.8404 - val_loss: 1.4736 - val_accuracy: 0.8287 - 638ms/epoch - 2ms/step\n",
      "Epoch 12/50\n",
      "273/273 - 1s - loss: 0.6453 - accuracy: 0.8417 - val_loss: 1.6474 - val_accuracy: 0.8379 - 660ms/epoch - 2ms/step\n",
      "Epoch 13/50\n",
      "273/273 - 1s - loss: 0.6365 - accuracy: 0.8421 - val_loss: 1.6332 - val_accuracy: 0.8411 - 592ms/epoch - 2ms/step\n",
      "Epoch 14/50\n",
      "273/273 - 1s - loss: 0.6262 - accuracy: 0.8409 - val_loss: 1.7319 - val_accuracy: 0.8356 - 612ms/epoch - 2ms/step\n",
      "Epoch 15/50\n",
      "273/273 - 1s - loss: 0.6274 - accuracy: 0.8401 - val_loss: 1.8549 - val_accuracy: 0.8315 - 637ms/epoch - 2ms/step\n",
      "Epoch 16/50\n",
      "273/273 - 1s - loss: 0.6307 - accuracy: 0.8423 - val_loss: 1.9345 - val_accuracy: 0.8333 - 601ms/epoch - 2ms/step\n",
      "Epoch 17/50\n",
      "273/273 - 1s - loss: 0.6342 - accuracy: 0.8374 - val_loss: 1.7138 - val_accuracy: 0.8264 - 730ms/epoch - 3ms/step\n",
      "Epoch 18/50\n",
      "273/273 - 1s - loss: 0.6142 - accuracy: 0.8421 - val_loss: 1.8678 - val_accuracy: 0.8430 - 730ms/epoch - 3ms/step\n",
      "Epoch 19/50\n",
      "273/273 - 1s - loss: 0.5995 - accuracy: 0.8413 - val_loss: 1.9008 - val_accuracy: 0.8242 - 595ms/epoch - 2ms/step\n",
      "Epoch 20/50\n",
      "273/273 - 1s - loss: 0.6096 - accuracy: 0.8410 - val_loss: 2.0310 - val_accuracy: 0.8260 - 578ms/epoch - 2ms/step\n",
      "Epoch 21/50\n",
      "273/273 - 1s - loss: 0.5982 - accuracy: 0.8426 - val_loss: 2.1416 - val_accuracy: 0.8343 - 536ms/epoch - 2ms/step\n",
      "Epoch 22/50\n",
      "273/273 - 1s - loss: 0.5964 - accuracy: 0.8425 - val_loss: 2.0518 - val_accuracy: 0.8315 - 645ms/epoch - 2ms/step\n",
      "Epoch 23/50\n",
      "273/273 - 1s - loss: 0.5823 - accuracy: 0.8448 - val_loss: 2.1091 - val_accuracy: 0.8283 - 593ms/epoch - 2ms/step\n",
      "Epoch 24/50\n",
      "273/273 - 1s - loss: 0.5889 - accuracy: 0.8433 - val_loss: 2.1529 - val_accuracy: 0.8356 - 596ms/epoch - 2ms/step\n",
      "Epoch 25/50\n",
      "273/273 - 1s - loss: 0.5773 - accuracy: 0.8423 - val_loss: 2.2299 - val_accuracy: 0.8398 - 599ms/epoch - 2ms/step\n",
      "Epoch 26/50\n",
      "273/273 - 1s - loss: 0.5720 - accuracy: 0.8455 - val_loss: 2.3058 - val_accuracy: 0.8393 - 632ms/epoch - 2ms/step\n",
      "Epoch 27/50\n",
      "273/273 - 1s - loss: 0.5651 - accuracy: 0.8464 - val_loss: 2.4117 - val_accuracy: 0.8329 - 641ms/epoch - 2ms/step\n",
      "Epoch 28/50\n",
      "273/273 - 1s - loss: 0.5799 - accuracy: 0.8417 - val_loss: 2.4282 - val_accuracy: 0.8315 - 632ms/epoch - 2ms/step\n",
      "Epoch 29/50\n",
      "273/273 - 1s - loss: 0.5560 - accuracy: 0.8442 - val_loss: 2.4706 - val_accuracy: 0.8434 - 618ms/epoch - 2ms/step\n",
      "Epoch 30/50\n",
      "273/273 - 1s - loss: 0.5601 - accuracy: 0.8424 - val_loss: 2.8895 - val_accuracy: 0.8242 - 613ms/epoch - 2ms/step\n",
      "Epoch 31/50\n",
      "273/273 - 1s - loss: 0.5470 - accuracy: 0.8457 - val_loss: 2.9047 - val_accuracy: 0.8398 - 612ms/epoch - 2ms/step\n",
      "Epoch 32/50\n",
      "273/273 - 1s - loss: 0.5603 - accuracy: 0.8464 - val_loss: 2.8822 - val_accuracy: 0.8251 - 630ms/epoch - 2ms/step\n",
      "Epoch 33/50\n",
      "273/273 - 1s - loss: 0.5443 - accuracy: 0.8457 - val_loss: 2.7630 - val_accuracy: 0.8356 - 630ms/epoch - 2ms/step\n",
      "Epoch 34/50\n",
      "273/273 - 1s - loss: 0.5446 - accuracy: 0.8470 - val_loss: 2.7877 - val_accuracy: 0.8347 - 618ms/epoch - 2ms/step\n",
      "Epoch 35/50\n",
      "273/273 - 1s - loss: 0.5364 - accuracy: 0.8458 - val_loss: 3.2219 - val_accuracy: 0.8402 - 613ms/epoch - 2ms/step\n",
      "Epoch 36/50\n",
      "273/273 - 1s - loss: 0.5570 - accuracy: 0.8463 - val_loss: 3.2111 - val_accuracy: 0.8365 - 615ms/epoch - 2ms/step\n",
      "Epoch 37/50\n",
      "273/273 - 1s - loss: 0.5260 - accuracy: 0.8479 - val_loss: 3.4707 - val_accuracy: 0.8320 - 626ms/epoch - 2ms/step\n",
      "Epoch 38/50\n",
      "273/273 - 1s - loss: 0.5501 - accuracy: 0.8457 - val_loss: 3.3817 - val_accuracy: 0.8251 - 641ms/epoch - 2ms/step\n",
      "Epoch 39/50\n",
      "273/273 - 1s - loss: 0.5380 - accuracy: 0.8478 - val_loss: 3.2748 - val_accuracy: 0.8301 - 611ms/epoch - 2ms/step\n",
      "Epoch 40/50\n",
      "273/273 - 1s - loss: 0.5290 - accuracy: 0.8463 - val_loss: 3.2226 - val_accuracy: 0.8388 - 617ms/epoch - 2ms/step\n",
      "Epoch 41/50\n",
      "273/273 - 1s - loss: 0.5145 - accuracy: 0.8481 - val_loss: 3.4442 - val_accuracy: 0.8329 - 612ms/epoch - 2ms/step\n",
      "Epoch 42/50\n",
      "273/273 - 1s - loss: 0.5097 - accuracy: 0.8474 - val_loss: 3.4303 - val_accuracy: 0.8320 - 589ms/epoch - 2ms/step\n",
      "Epoch 43/50\n",
      "273/273 - 1s - loss: 0.4983 - accuracy: 0.8483 - val_loss: 3.7016 - val_accuracy: 0.8292 - 632ms/epoch - 2ms/step\n",
      "Epoch 44/50\n",
      "273/273 - 1s - loss: 0.5070 - accuracy: 0.8489 - val_loss: 3.8101 - val_accuracy: 0.8333 - 620ms/epoch - 2ms/step\n",
      "Epoch 45/50\n",
      "273/273 - 1s - loss: 0.5072 - accuracy: 0.8464 - val_loss: 3.7906 - val_accuracy: 0.8320 - 618ms/epoch - 2ms/step\n",
      "Epoch 46/50\n",
      "273/273 - 1s - loss: 0.4999 - accuracy: 0.8481 - val_loss: 3.5648 - val_accuracy: 0.8388 - 628ms/epoch - 2ms/step\n",
      "Epoch 47/50\n",
      "273/273 - 1s - loss: 0.4938 - accuracy: 0.8497 - val_loss: 3.4572 - val_accuracy: 0.8393 - 656ms/epoch - 2ms/step\n",
      "Epoch 48/50\n",
      "273/273 - 1s - loss: 0.5002 - accuracy: 0.8485 - val_loss: 3.4555 - val_accuracy: 0.8251 - 625ms/epoch - 2ms/step\n",
      "Epoch 49/50\n",
      "273/273 - 1s - loss: 0.5010 - accuracy: 0.8486 - val_loss: 3.9499 - val_accuracy: 0.8324 - 609ms/epoch - 2ms/step\n",
      "Epoch 50/50\n",
      "273/273 - 1s - loss: 0.4766 - accuracy: 0.8502 - val_loss: 4.1526 - val_accuracy: 0.8214 - 599ms/epoch - 2ms/step\n"
     ]
    }
   ],
   "source": [
    "# encode labels\n",
    "from sklearn.preprocessing import LabelEncoder\n",
    "from sklearn.utils import class_weight\n",
    "\n",
    "le = LabelEncoder()\n",
    "y_train_encoded = le.fit_transform(y_train)\n",
    "\n",
    "# calculate class weights\n",
    "#le = LabelEncoder()\n",
    "class_weights = {\n",
    "    0: 1.23, # DERMASON\n",
    "    1: 1.66, # SIRA\n",
    "    2: 2.16, # SEKER\n",
    "    3: 2.28, # HOROZ\n",
    "    4: 2.71, # CALI\n",
    "    5: 3.33, # BARBUNYA\n",
    "    6: 8.42, # BOMBAY\n",
    "}\n",
    "\n",
    "y_train_encoded = le.fit_transform(y_train)\n",
    "class_weights = {i: w for i, w in enumerate(class_weights)}\n",
    "\n",
    "# create and compile model\n",
    "model = tf.keras.models.Sequential()\n",
    "model.add(tf.keras.layers.Dense(64, input_dim=X_train.shape[1], activation='relu'))\n",
    "model.add(tf.keras.layers.Dense(64, input_dim=X_train.shape[1], activation='relu'))\n",
    "model.add(tf.keras.layers.Dense(64, input_dim=X_train.shape[1], activation='relu'))\n",
    "model.add(tf.keras.layers.Dense(64, input_dim=X_train.shape[1], activation='relu'))\n",
    "model.add(tf.keras.layers.Dense(64, input_dim=X_train.shape[1], activation='relu'))\n",
    "model.add(tf.keras.layers.Dense(16, activation='softmax'))\n",
    "model.compile(loss='sparse_categorical_crossentropy', optimizer='adam', metrics=['accuracy'])\n",
    "\n",
    "# train model\n",
    "history = model.fit(X_train, y_train_encoded, batch_size=32, epochs=50, verbose=2, class_weight=class_weights, validation_split=0.2)"
   ]
  },
  {
   "cell_type": "code",
   "execution_count": 92,
   "metadata": {},
   "outputs": [
    {
     "name": "stdout",
     "output_type": "stream",
     "text": [
      "Model: \"sequential_25\"\n",
      "_________________________________________________________________\n",
      " Layer (type)                Output Shape              Param #   \n",
      "=================================================================\n",
      " dense_87 (Dense)            (None, 64)                1088      \n",
      "                                                                 \n",
      " dense_88 (Dense)            (None, 64)                4160      \n",
      "                                                                 \n",
      " dense_89 (Dense)            (None, 64)                4160      \n",
      "                                                                 \n",
      " dense_90 (Dense)            (None, 64)                4160      \n",
      "                                                                 \n",
      " dense_91 (Dense)            (None, 64)                4160      \n",
      "                                                                 \n",
      " dense_92 (Dense)            (None, 16)                1040      \n",
      "                                                                 \n",
      "=================================================================\n",
      "Total params: 18,768\n",
      "Trainable params: 18,768\n",
      "Non-trainable params: 0\n",
      "_________________________________________________________________\n"
     ]
    }
   ],
   "source": [
    "model.summary()"
   ]
  },
  {
   "cell_type": "code",
   "execution_count": 93,
   "metadata": {},
   "outputs": [
    {
     "data": {
      "text/plain": [
       "<matplotlib.legend.Legend at 0x29cb80f6910>"
      ]
     },
     "execution_count": 93,
     "metadata": {},
     "output_type": "execute_result"
    },
    {
     "data": {
      "image/png": "[encoded data removed]",
      "text/plain": [
       "<Figure size 432x288 with 1 Axes>"
      ]
     },
     "metadata": {
      "needs_background": "light"
     },
     "output_type": "display_data"
    }
   ],
   "source": [
    "#plotting and evaluation of the algorithm used\n",
    "accuracy = history.history['accuracy']\n",
    "validation_accuracy = history.history['val_accuracy']\n",
    "plt.plot(accuracy, label='Training Set Accuracy')\n",
    "plt.plot(validation_accuracy, label='Validation Set Accuracy')\n",
    "plt.ylabel('Accuracy')\n",
    "plt.ylim([min(plt.ylim()),1])\n",
    "plt.title('Training and Validation Accuracy Across Epochs')\n",
    "plt.legend()"
   ]
  },
  {
   "cell_type": "code",
   "execution_count": 94,
   "metadata": {},
   "outputs": [
    {
     "data": {
      "text/plain": [
       "<matplotlib.legend.Legend at 0x29cc1747b20>"
      ]
     },
     "execution_count": 94,
     "metadata": {},
     "output_type": "execute_result"
    },
    {
     "data": {
      "image/png": "[encoded data removed]",
      "text/plain": [
       "<Figure size 432x288 with 1 Axes>"
      ]
     },
     "metadata": {
      "needs_background": "light"
     },
     "output_type": "display_data"
    }
   ],
   "source": [
    "#visualizing  the loss for training and validation\n",
    "loss = history.history['loss']\n",
    "validation_loss = history.history['val_loss']\n",
    "plt.plot(loss, label='Training Set Loss')\n",
    "plt.plot(validation_loss, label='Validation Set Loss')\n",
    "plt.ylabel('Loss')\n",
    "plt.title('Training and Validation Accuracy Across Epochs')\n",
    "plt.legend()"
   ]
  },
  {
   "cell_type": "code",
   "execution_count": 95,
   "metadata": {},
   "outputs": [
    {
     "name": "stdout",
     "output_type": "stream",
     "text": [
      "86/86 [==============================] - 0s 1ms/step\n"
     ]
    }
   ],
   "source": [
    "#making a prediction\n",
    "y_pred = model.predict(X_test)\n",
    "y_pred = y_pred.argmax(axis=1)"
   ]
  },
  {
   "cell_type": "code",
   "execution_count": 99,
   "metadata": {},
   "outputs": [
    {
     "name": "stderr",
     "output_type": "stream",
     "text": [
      "C:\\Users\\User\\AppData\\Roaming\\Python\\Python39\\site-packages\\sklearn\\metrics\\_classification.py:1334: UndefinedMetricWarning: Precision and F-score are ill-defined and being set to 0.0 in labels with no predicted samples. Use `zero_division` parameter to control this behavior.\n",
      "  _warn_prf(average, modifier, msg_start, len(result))\n",
      "C:\\Users\\User\\AppData\\Roaming\\Python\\Python39\\site-packages\\sklearn\\metrics\\_classification.py:1334: UndefinedMetricWarning: Precision and F-score are ill-defined and being set to 0.0 in labels with no predicted samples. Use `zero_division` parameter to control this behavior.\n",
      "  _warn_prf(average, modifier, msg_start, len(result))\n",
      "C:\\Users\\User\\AppData\\Roaming\\Python\\Python39\\site-packages\\sklearn\\metrics\\_classification.py:1334: UndefinedMetricWarning: Precision and F-score are ill-defined and being set to 0.0 in labels with no predicted samples. Use `zero_division` parameter to control this behavior.\n",
      "  _warn_prf(average, modifier, msg_start, len(result))\n"
     ]
    },
    {
     "name": "stdout",
     "output_type": "stream",
     "text": [
      "              precision    recall  f1-score   support\n",
      "\n",
      "           0       0.00      0.00      0.00       265\n",
      "           1       0.69      1.00      0.82       104\n",
      "           2       0.69      0.96      0.80       326\n",
      "           3       0.97      0.80      0.88       709\n",
      "           4       0.91      0.97      0.94       386\n",
      "           5       0.80      0.98      0.88       406\n",
      "           6       0.78      0.93      0.85       527\n",
      "\n",
      "    accuracy                           0.83      2723\n",
      "   macro avg       0.69      0.81      0.74      2723\n",
      "weighted avg       0.76      0.83      0.78      2723\n",
      "\n"
     ]
    },
    {
     "data": {
      "image/png": "[encoded data removed]",
      "text/plain": [
       "<Figure size 432x288 with 2 Axes>"
      ]
     },
     "metadata": {
      "needs_background": "light"
     },
     "output_type": "display_data"
    }
   ],
   "source": [
    "from sklearn.metrics import confusion_matrix, classification_report\n",
    "\n",
    "# encode labels in y_test\n",
    "le = LabelEncoder()\n",
    "y_test_encoded = le.fit_transform(y_test)\n",
    "\n",
    "# convert numeric predictions to corresponding class labels\n",
    "class_labels = le.inverse_transform(y_pred)\n",
    "\n",
    "# print classification report and confusion matrix\n",
    "print(classification_report(y_test_encoded, y_pred))\n",
    "\n",
    "cm = confusion_matrix(y_test_encoded, y_pred)\n",
    "ax = sns.heatmap(cm, cmap='flare', annot=True, fmt='d')\n",
    "plt.xlabel(\"Predicted Class\",fontsize=12)\n",
    "plt.ylabel(\"True Class\",fontsize=12)\n",
    "plt.title(\"Confusion Matrix\",fontsize=12)\n",
    "plt.show()\n"
   ]
  }
 ],
 "metadata": {
  "kernelspec": {
   "display_name": "Python 3 (ipykernel)",
   "language": "python",
   "name": "python3"
  },
  "language_info": {
   "codemirror_mode": {
    "name": "ipython",
    "version": 3
   },
   "file_extension": ".py",
   "mimetype": "text/x-python",
   "name": "python",
   "nbconvert_exporter": "python",
   "pygments_lexer": "ipython3",
   "version": "3.9.12"
  }
 },
 "nbformat": 4,
 "nbformat_minor": 2
}
